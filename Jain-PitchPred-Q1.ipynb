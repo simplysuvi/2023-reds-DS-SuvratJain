{
 "cells": [
  {
   "cell_type": "markdown",
   "id": "d06ea0d9-c166-44c7-97e9-11f48eca5edf",
   "metadata": {},
   "source": [
    "## Imports"
   ]
  },
  {
   "cell_type": "code",
   "execution_count": 1,
   "id": "86f9e426-3a01-4076-a457-d09256ecd41c",
   "metadata": {},
   "outputs": [
    {
     "name": "stdout",
     "output_type": "stream",
     "text": [
      "Requirement already satisfied: pandas in /Users/suvijain/opt/anaconda3/lib/python3.9/site-packages (1.3.5)\n",
      "Requirement already satisfied: python-dateutil>=2.7.3 in /Users/suvijain/opt/anaconda3/lib/python3.9/site-packages (from pandas) (2.8.1)\n",
      "Requirement already satisfied: pytz>=2017.3 in /Users/suvijain/opt/anaconda3/lib/python3.9/site-packages (from pandas) (2019.3)\n",
      "Requirement already satisfied: numpy>=1.17.3 in /Users/suvijain/opt/anaconda3/lib/python3.9/site-packages (from pandas) (1.21.5)\n",
      "Requirement already satisfied: six>=1.5 in /Users/suvijain/opt/anaconda3/lib/python3.9/site-packages (from python-dateutil>=2.7.3->pandas) (1.16.0)\n",
      "Requirement already satisfied: statistics in /Users/suvijain/opt/anaconda3/lib/python3.9/site-packages (1.0.3.5)\n",
      "Requirement already satisfied: docutils>=0.3 in /Users/suvijain/opt/anaconda3/lib/python3.9/site-packages (from statistics) (0.18.1)\n",
      "Requirement already satisfied: seaborn in /Users/suvijain/opt/anaconda3/lib/python3.9/site-packages (0.11.2)\n",
      "Requirement already satisfied: matplotlib>=2.2 in /Users/suvijain/opt/anaconda3/lib/python3.9/site-packages (from seaborn) (3.5.2)\n",
      "Requirement already satisfied: numpy>=1.15 in /Users/suvijain/opt/anaconda3/lib/python3.9/site-packages (from seaborn) (1.21.5)\n",
      "Requirement already satisfied: pandas>=0.23 in /Users/suvijain/opt/anaconda3/lib/python3.9/site-packages (from seaborn) (1.3.5)\n",
      "Requirement already satisfied: scipy>=1.0 in /Users/suvijain/opt/anaconda3/lib/python3.9/site-packages (from seaborn) (1.7.3)\n",
      "Requirement already satisfied: packaging>=20.0 in /Users/suvijain/opt/anaconda3/lib/python3.9/site-packages (from matplotlib>=2.2->seaborn) (21.3)\n",
      "Requirement already satisfied: fonttools>=4.22.0 in /Users/suvijain/opt/anaconda3/lib/python3.9/site-packages (from matplotlib>=2.2->seaborn) (4.25.0)\n",
      "Requirement already satisfied: pyparsing>=2.2.1 in /Users/suvijain/opt/anaconda3/lib/python3.9/site-packages (from matplotlib>=2.2->seaborn) (3.0.9)\n",
      "Requirement already satisfied: pillow>=6.2.0 in /Users/suvijain/opt/anaconda3/lib/python3.9/site-packages (from matplotlib>=2.2->seaborn) (9.0.1)\n",
      "Requirement already satisfied: cycler>=0.10 in /Users/suvijain/opt/anaconda3/lib/python3.9/site-packages (from matplotlib>=2.2->seaborn) (0.11.0)\n",
      "Requirement already satisfied: python-dateutil>=2.7 in /Users/suvijain/opt/anaconda3/lib/python3.9/site-packages (from matplotlib>=2.2->seaborn) (2.8.1)\n",
      "Requirement already satisfied: kiwisolver>=1.0.1 in /Users/suvijain/opt/anaconda3/lib/python3.9/site-packages (from matplotlib>=2.2->seaborn) (1.4.2)\n",
      "Requirement already satisfied: pytz>=2017.3 in /Users/suvijain/opt/anaconda3/lib/python3.9/site-packages (from pandas>=0.23->seaborn) (2019.3)\n",
      "Requirement already satisfied: six>=1.5 in /Users/suvijain/opt/anaconda3/lib/python3.9/site-packages (from python-dateutil>=2.7->matplotlib>=2.2->seaborn) (1.16.0)\n",
      "Requirement already satisfied: matplotlib in /Users/suvijain/opt/anaconda3/lib/python3.9/site-packages (3.5.2)\n",
      "Requirement already satisfied: python-dateutil>=2.7 in /Users/suvijain/opt/anaconda3/lib/python3.9/site-packages (from matplotlib) (2.8.1)\n",
      "Requirement already satisfied: pyparsing>=2.2.1 in /Users/suvijain/opt/anaconda3/lib/python3.9/site-packages (from matplotlib) (3.0.9)\n",
      "Requirement already satisfied: packaging>=20.0 in /Users/suvijain/opt/anaconda3/lib/python3.9/site-packages (from matplotlib) (21.3)\n",
      "Requirement already satisfied: kiwisolver>=1.0.1 in /Users/suvijain/opt/anaconda3/lib/python3.9/site-packages (from matplotlib) (1.4.2)\n",
      "Requirement already satisfied: fonttools>=4.22.0 in /Users/suvijain/opt/anaconda3/lib/python3.9/site-packages (from matplotlib) (4.25.0)\n",
      "Requirement already satisfied: pillow>=6.2.0 in /Users/suvijain/opt/anaconda3/lib/python3.9/site-packages (from matplotlib) (9.0.1)\n",
      "Requirement already satisfied: cycler>=0.10 in /Users/suvijain/opt/anaconda3/lib/python3.9/site-packages (from matplotlib) (0.11.0)\n",
      "Requirement already satisfied: numpy>=1.17 in /Users/suvijain/opt/anaconda3/lib/python3.9/site-packages (from matplotlib) (1.21.5)\n",
      "Requirement already satisfied: six>=1.5 in /Users/suvijain/opt/anaconda3/lib/python3.9/site-packages (from python-dateutil>=2.7->matplotlib) (1.16.0)\n",
      "Requirement already satisfied: sklearn in /Users/suvijain/opt/anaconda3/lib/python3.9/site-packages (0.0)\n",
      "Requirement already satisfied: scikit-learn in /Users/suvijain/opt/anaconda3/lib/python3.9/site-packages (from sklearn) (1.1.1)\n",
      "Requirement already satisfied: threadpoolctl>=2.0.0 in /Users/suvijain/opt/anaconda3/lib/python3.9/site-packages (from scikit-learn->sklearn) (2.2.0)\n",
      "Requirement already satisfied: joblib>=1.0.0 in /Users/suvijain/opt/anaconda3/lib/python3.9/site-packages (from scikit-learn->sklearn) (1.1.0)\n",
      "Requirement already satisfied: numpy>=1.17.3 in /Users/suvijain/opt/anaconda3/lib/python3.9/site-packages (from scikit-learn->sklearn) (1.21.5)\n",
      "Requirement already satisfied: scipy>=1.3.2 in /Users/suvijain/opt/anaconda3/lib/python3.9/site-packages (from scikit-learn->sklearn) (1.7.3)\n"
     ]
    }
   ],
   "source": [
    "!pip install pandas\n",
    "!pip install statistics\n",
    "!pip install seaborn\n",
    "!pip install matplotlib\n",
    "!pip install sklearn"
   ]
  },
  {
   "cell_type": "code",
   "execution_count": 2,
   "id": "c3514aae-8e83-441c-8c57-63693935ede8",
   "metadata": {},
   "outputs": [],
   "source": [
    "import pandas as pd\n",
    "import statistics\n",
    "import seaborn as sns\n",
    "import matplotlib.pyplot as plt\n",
    "import matplotlib.ticker as ticker\n",
    "\n",
    "from sklearn.linear_model import LogisticRegression\n",
    "from sklearn.preprocessing import StandardScaler\n",
    "from sklearn.neighbors import KNeighborsClassifier\n",
    "from sklearn import metrics\n",
    "from sklearn.metrics import classification_report,confusion_matrix\n",
    "from sklearn.model_selection import train_test_split"
   ]
  },
  {
   "cell_type": "markdown",
   "id": "12472350-5fe8-449b-b033-f94ada488a9c",
   "metadata": {},
   "source": [
    "## Loading dataset "
   ]
  },
  {
   "cell_type": "code",
   "execution_count": 3,
   "id": "ca113f6d-0b3a-4bd7-850c-0c21456b1ec3",
   "metadata": {},
   "outputs": [
    {
     "data": {
      "text/html": [
       "<div>\n",
       "<style scoped>\n",
       "    .dataframe tbody tr th:only-of-type {\n",
       "        vertical-align: middle;\n",
       "    }\n",
       "\n",
       "    .dataframe tbody tr th {\n",
       "        vertical-align: top;\n",
       "    }\n",
       "\n",
       "    .dataframe thead th {\n",
       "        text-align: right;\n",
       "    }\n",
       "</style>\n",
       "<table border=\"1\" class=\"dataframe\">\n",
       "  <thead>\n",
       "    <tr style=\"text-align: right;\">\n",
       "      <th></th>\n",
       "      <th>UID</th>\n",
       "      <th>PITCHER_KEY</th>\n",
       "      <th>RELEASE_SPEED</th>\n",
       "      <th>SPIN_RATE_ABSOLUTE</th>\n",
       "      <th>RELEASE_HEIGHT</th>\n",
       "      <th>RELEASE_SIDE</th>\n",
       "      <th>PITCH_TYPE_TRACKED_KEY</th>\n",
       "    </tr>\n",
       "  </thead>\n",
       "  <tbody>\n",
       "    <tr>\n",
       "      <th>0</th>\n",
       "      <td>361</td>\n",
       "      <td>483</td>\n",
       "      <td>92.179588</td>\n",
       "      <td>1976.671631</td>\n",
       "      <td>6.226351</td>\n",
       "      <td>-2.788761</td>\n",
       "      <td>SI</td>\n",
       "    </tr>\n",
       "    <tr>\n",
       "      <th>1</th>\n",
       "      <td>362</td>\n",
       "      <td>483</td>\n",
       "      <td>93.352028</td>\n",
       "      <td>2113.584229</td>\n",
       "      <td>6.384256</td>\n",
       "      <td>-2.626077</td>\n",
       "      <td>SI</td>\n",
       "    </tr>\n",
       "    <tr>\n",
       "      <th>2</th>\n",
       "      <td>350</td>\n",
       "      <td>864</td>\n",
       "      <td>93.109413</td>\n",
       "      <td>2153.424561</td>\n",
       "      <td>5.912424</td>\n",
       "      <td>-1.954881</td>\n",
       "      <td>FB</td>\n",
       "    </tr>\n",
       "    <tr>\n",
       "      <th>3</th>\n",
       "      <td>353</td>\n",
       "      <td>928</td>\n",
       "      <td>93.710999</td>\n",
       "      <td>2457.569092</td>\n",
       "      <td>5.913225</td>\n",
       "      <td>-1.000528</td>\n",
       "      <td>FB</td>\n",
       "    </tr>\n",
       "    <tr>\n",
       "      <th>4</th>\n",
       "      <td>359</td>\n",
       "      <td>483</td>\n",
       "      <td>92.901886</td>\n",
       "      <td>1993.830200</td>\n",
       "      <td>6.303658</td>\n",
       "      <td>-2.822147</td>\n",
       "      <td>SI</td>\n",
       "    </tr>\n",
       "  </tbody>\n",
       "</table>\n",
       "</div>"
      ],
      "text/plain": [
       "   UID  PITCHER_KEY  RELEASE_SPEED  SPIN_RATE_ABSOLUTE  RELEASE_HEIGHT  \\\n",
       "0  361          483      92.179588         1976.671631        6.226351   \n",
       "1  362          483      93.352028         2113.584229        6.384256   \n",
       "2  350          864      93.109413         2153.424561        5.912424   \n",
       "3  353          928      93.710999         2457.569092        5.913225   \n",
       "4  359          483      92.901886         1993.830200        6.303658   \n",
       "\n",
       "   RELEASE_SIDE PITCH_TYPE_TRACKED_KEY  \n",
       "0     -2.788761                     SI  \n",
       "1     -2.626077                     SI  \n",
       "2     -1.954881                     FB  \n",
       "3     -1.000528                     FB  \n",
       "4     -2.822147                     SI  "
      ]
     },
     "execution_count": 3,
     "metadata": {},
     "output_type": "execute_result"
    }
   ],
   "source": [
    "# Training dataset dataframe\n",
    "df_train = pd.read_csv('data/train.csv')\n",
    "\n",
    "# Test dataset dataframe\n",
    "df_test = pd.read_csv('data/test.csv')\n",
    "\n",
    "# We drop the unwanted columns from the test set\n",
    "df_test.drop(columns=['B','S','SS','CONTACT_QUALITY'],inplace=True)\n",
    "df_train.head()"
   ]
  },
  {
   "cell_type": "code",
   "execution_count": 4,
   "id": "4a8fe715-8917-4ccd-8eeb-6fb6330c4135",
   "metadata": {},
   "outputs": [
    {
     "data": {
      "text/html": [
       "<div>\n",
       "<style scoped>\n",
       "    .dataframe tbody tr th:only-of-type {\n",
       "        vertical-align: middle;\n",
       "    }\n",
       "\n",
       "    .dataframe tbody tr th {\n",
       "        vertical-align: top;\n",
       "    }\n",
       "\n",
       "    .dataframe thead th {\n",
       "        text-align: right;\n",
       "    }\n",
       "</style>\n",
       "<table border=\"1\" class=\"dataframe\">\n",
       "  <thead>\n",
       "    <tr style=\"text-align: right;\">\n",
       "      <th></th>\n",
       "      <th>UID</th>\n",
       "      <th>PITCHER_KEY</th>\n",
       "      <th>RELEASE_SPEED</th>\n",
       "      <th>SPIN_RATE_ABSOLUTE</th>\n",
       "      <th>RELEASE_HEIGHT</th>\n",
       "      <th>RELEASE_SIDE</th>\n",
       "    </tr>\n",
       "  </thead>\n",
       "  <tbody>\n",
       "    <tr>\n",
       "      <th>0</th>\n",
       "      <td>5854</td>\n",
       "      <td>90004</td>\n",
       "      <td>92.090401</td>\n",
       "      <td>1736.750000</td>\n",
       "      <td>5.11061</td>\n",
       "      <td>-1.971080</td>\n",
       "    </tr>\n",
       "    <tr>\n",
       "      <th>1</th>\n",
       "      <td>5790</td>\n",
       "      <td>90004</td>\n",
       "      <td>93.045097</td>\n",
       "      <td>1925.030029</td>\n",
       "      <td>5.21557</td>\n",
       "      <td>-1.830700</td>\n",
       "    </tr>\n",
       "    <tr>\n",
       "      <th>2</th>\n",
       "      <td>1407</td>\n",
       "      <td>90000</td>\n",
       "      <td>91.419098</td>\n",
       "      <td>2392.090088</td>\n",
       "      <td>5.74147</td>\n",
       "      <td>1.406280</td>\n",
       "    </tr>\n",
       "    <tr>\n",
       "      <th>3</th>\n",
       "      <td>1129</td>\n",
       "      <td>90003</td>\n",
       "      <td>83.420998</td>\n",
       "      <td>2177.780029</td>\n",
       "      <td>5.83022</td>\n",
       "      <td>-1.111150</td>\n",
       "    </tr>\n",
       "    <tr>\n",
       "      <th>4</th>\n",
       "      <td>1980</td>\n",
       "      <td>90001</td>\n",
       "      <td>70.362602</td>\n",
       "      <td>2789.729980</td>\n",
       "      <td>7.01691</td>\n",
       "      <td>0.554392</td>\n",
       "    </tr>\n",
       "  </tbody>\n",
       "</table>\n",
       "</div>"
      ],
      "text/plain": [
       "    UID  PITCHER_KEY  RELEASE_SPEED  SPIN_RATE_ABSOLUTE  RELEASE_HEIGHT  \\\n",
       "0  5854        90004      92.090401         1736.750000         5.11061   \n",
       "1  5790        90004      93.045097         1925.030029         5.21557   \n",
       "2  1407        90000      91.419098         2392.090088         5.74147   \n",
       "3  1129        90003      83.420998         2177.780029         5.83022   \n",
       "4  1980        90001      70.362602         2789.729980         7.01691   \n",
       "\n",
       "   RELEASE_SIDE  \n",
       "0     -1.971080  \n",
       "1     -1.830700  \n",
       "2      1.406280  \n",
       "3     -1.111150  \n",
       "4      0.554392  "
      ]
     },
     "execution_count": 4,
     "metadata": {},
     "output_type": "execute_result"
    }
   ],
   "source": [
    "df_test.head()"
   ]
  },
  {
   "cell_type": "code",
   "execution_count": 5,
   "id": "72aae2ea-c886-4096-98e2-3966f7a45e91",
   "metadata": {},
   "outputs": [
    {
     "data": {
      "text/html": [
       "<div>\n",
       "<style scoped>\n",
       "    .dataframe tbody tr th:only-of-type {\n",
       "        vertical-align: middle;\n",
       "    }\n",
       "\n",
       "    .dataframe tbody tr th {\n",
       "        vertical-align: top;\n",
       "    }\n",
       "\n",
       "    .dataframe thead th {\n",
       "        text-align: right;\n",
       "    }\n",
       "</style>\n",
       "<table border=\"1\" class=\"dataframe\">\n",
       "  <thead>\n",
       "    <tr style=\"text-align: right;\">\n",
       "      <th></th>\n",
       "      <th>UID</th>\n",
       "      <th>PITCHER_KEY</th>\n",
       "      <th>RELEASE_SPEED</th>\n",
       "      <th>SPIN_RATE_ABSOLUTE</th>\n",
       "      <th>RELEASE_HEIGHT</th>\n",
       "      <th>RELEASE_SIDE</th>\n",
       "    </tr>\n",
       "  </thead>\n",
       "  <tbody>\n",
       "    <tr>\n",
       "      <th>count</th>\n",
       "      <td>100000.000000</td>\n",
       "      <td>100000.000000</td>\n",
       "      <td>100000.000000</td>\n",
       "      <td>100000.000000</td>\n",
       "      <td>100000.000000</td>\n",
       "      <td>100000.000000</td>\n",
       "    </tr>\n",
       "    <tr>\n",
       "      <th>mean</th>\n",
       "      <td>49999.500000</td>\n",
       "      <td>612.034350</td>\n",
       "      <td>88.777251</td>\n",
       "      <td>2249.448645</td>\n",
       "      <td>5.867257</td>\n",
       "      <td>-0.706419</td>\n",
       "    </tr>\n",
       "    <tr>\n",
       "      <th>std</th>\n",
       "      <td>28867.657797</td>\n",
       "      <td>389.421967</td>\n",
       "      <td>5.989085</td>\n",
       "      <td>325.712020</td>\n",
       "      <td>0.524442</td>\n",
       "      <td>1.887958</td>\n",
       "    </tr>\n",
       "    <tr>\n",
       "      <th>min</th>\n",
       "      <td>0.000000</td>\n",
       "      <td>0.000000</td>\n",
       "      <td>65.036499</td>\n",
       "      <td>0.000000</td>\n",
       "      <td>1.036694</td>\n",
       "      <td>-5.262220</td>\n",
       "    </tr>\n",
       "    <tr>\n",
       "      <th>25%</th>\n",
       "      <td>24999.750000</td>\n",
       "      <td>285.000000</td>\n",
       "      <td>84.515245</td>\n",
       "      <td>2087.816284</td>\n",
       "      <td>5.618483</td>\n",
       "      <td>-2.073693</td>\n",
       "    </tr>\n",
       "    <tr>\n",
       "      <th>50%</th>\n",
       "      <td>49999.500000</td>\n",
       "      <td>564.000000</td>\n",
       "      <td>89.853310</td>\n",
       "      <td>2265.095825</td>\n",
       "      <td>5.907460</td>\n",
       "      <td>-1.423814</td>\n",
       "    </tr>\n",
       "    <tr>\n",
       "      <th>75%</th>\n",
       "      <td>74999.250000</td>\n",
       "      <td>915.000000</td>\n",
       "      <td>93.600851</td>\n",
       "      <td>2438.664917</td>\n",
       "      <td>6.193550</td>\n",
       "      <td>1.219448</td>\n",
       "    </tr>\n",
       "    <tr>\n",
       "      <th>max</th>\n",
       "      <td>99999.000000</td>\n",
       "      <td>1453.000000</td>\n",
       "      <td>102.899002</td>\n",
       "      <td>3599.944824</td>\n",
       "      <td>7.525885</td>\n",
       "      <td>5.165480</td>\n",
       "    </tr>\n",
       "  </tbody>\n",
       "</table>\n",
       "</div>"
      ],
      "text/plain": [
       "                 UID    PITCHER_KEY  RELEASE_SPEED  SPIN_RATE_ABSOLUTE  \\\n",
       "count  100000.000000  100000.000000  100000.000000       100000.000000   \n",
       "mean    49999.500000     612.034350      88.777251         2249.448645   \n",
       "std     28867.657797     389.421967       5.989085          325.712020   \n",
       "min         0.000000       0.000000      65.036499            0.000000   \n",
       "25%     24999.750000     285.000000      84.515245         2087.816284   \n",
       "50%     49999.500000     564.000000      89.853310         2265.095825   \n",
       "75%     74999.250000     915.000000      93.600851         2438.664917   \n",
       "max     99999.000000    1453.000000     102.899002         3599.944824   \n",
       "\n",
       "       RELEASE_HEIGHT   RELEASE_SIDE  \n",
       "count   100000.000000  100000.000000  \n",
       "mean         5.867257      -0.706419  \n",
       "std          0.524442       1.887958  \n",
       "min          1.036694      -5.262220  \n",
       "25%          5.618483      -2.073693  \n",
       "50%          5.907460      -1.423814  \n",
       "75%          6.193550       1.219448  \n",
       "max          7.525885       5.165480  "
      ]
     },
     "execution_count": 5,
     "metadata": {},
     "output_type": "execute_result"
    }
   ],
   "source": [
    "df_train.describe()"
   ]
  },
  {
   "cell_type": "markdown",
   "id": "893d77cd-c639-4ede-bb45-b2fce90c9d48",
   "metadata": {},
   "source": [
    "##### Let's check if our dataset contains any null or missing values."
   ]
  },
  {
   "cell_type": "code",
   "execution_count": 6,
   "id": "a17fb79b-ac9a-4d8f-940d-2c1a3fb175cf",
   "metadata": {},
   "outputs": [
    {
     "data": {
      "text/plain": [
       "UID                       0\n",
       "PITCHER_KEY               0\n",
       "RELEASE_SPEED             0\n",
       "SPIN_RATE_ABSOLUTE        0\n",
       "RELEASE_HEIGHT            0\n",
       "RELEASE_SIDE              0\n",
       "PITCH_TYPE_TRACKED_KEY    0\n",
       "dtype: int64"
      ]
     },
     "execution_count": 6,
     "metadata": {},
     "output_type": "execute_result"
    }
   ],
   "source": [
    "df_train.isnull().sum()"
   ]
  },
  {
   "cell_type": "markdown",
   "id": "ba4a399d-90aa-4b33-947b-6997a7af05ff",
   "metadata": {},
   "source": [
    "### "
   ]
  },
  {
   "cell_type": "code",
   "execution_count": 7,
   "id": "d9cdfa92-f1ef-4391-9bc4-c3bc9ad510df",
   "metadata": {},
   "outputs": [
    {
     "data": {
      "image/png": "[encoded data removed]",
      "text/plain": [
       "<Figure size 400x400 with 1 Axes>"
      ]
     },
     "metadata": {},
     "output_type": "display_data"
    },
    {
     "data": {
      "image/png": "[encoded data removed]",
      "text/plain": [
       "<Figure size 600x400 with 1 Axes>"
      ]
     },
     "metadata": {},
     "output_type": "display_data"
    }
   ],
   "source": [
    "# Set graph style\n",
    "sns.set_style(\"darkgrid\")\n",
    "\n",
    "# Graph pitch types\n",
    "fig = plt.figure(figsize=(4,4))\n",
    "df_train.PITCH_TYPE_TRACKED_KEY.value_counts().plot(kind=\"bar\", edgecolor=\"k\")\n",
    "plt.title(\"Number of Pitches Thrown by Type\")\n",
    "plt.xlabel(\"Pitch Type\")\n",
    "plt.ylabel(\"Number of Pitches Thrown\")\n",
    "plt.show()\n",
    "\n",
    "\n",
    "# Density plot of pitch release speed by pitch type\n",
    "plt.figure(figsize=(6,4))\n",
    "sns.kdeplot(x=df_train[\"RELEASE_SPEED\"], hue=df_train[\"PITCH_TYPE_TRACKED_KEY\"])\n",
    "plt.title(\"Initial velocity of Pitch\")\n",
    "plt.xlabel(\"Initial Speed\")\n",
    "plt.show()"
   ]
  },
  {
   "cell_type": "code",
   "execution_count": 8,
   "id": "a93a89e9-36b6-4487-9291-35d349472a5c",
   "metadata": {},
   "outputs": [
    {
     "data": {
      "image/png": "[encoded data removed]",
      "text/plain": [
       "<Figure size 1200x800 with 2 Axes>"
      ]
     },
     "metadata": {},
     "output_type": "display_data"
    }
   ],
   "source": [
    "ncount = len(df_train)\n",
    "\n",
    "plt.figure(figsize=(12,8))\n",
    "ax = sns.countplot(x=\"PITCH_TYPE_TRACKED_KEY\", data=df_train)\n",
    "plt.title('Distribution of Pitch Types')\n",
    "plt.xlabel('Pitch Types')\n",
    "\n",
    "ax2=ax.twinx()\n",
    "\n",
    "ax2.yaxis.tick_left()\n",
    "ax.yaxis.tick_right()\n",
    "\n",
    "ax.yaxis.set_label_position('right')\n",
    "ax2.yaxis.set_label_position('left')\n",
    "\n",
    "ax2.set_ylabel('Frequency [%]')\n",
    "\n",
    "for p in ax.patches:\n",
    "    x=p.get_bbox().get_points()[:,0]\n",
    "    y=p.get_bbox().get_points()[1,1]\n",
    "    ax.annotate('{:.1f}%'.format(100.*y/ncount), (x.mean(), y), \n",
    "            ha='center', va='bottom')\n",
    "\n",
    "ax.yaxis.set_major_locator(ticker.LinearLocator(11))\n",
    "plt.show()"
   ]
  },
  {
   "cell_type": "code",
   "execution_count": 9,
   "id": "14bb162e-b7a2-4aae-893b-81cbe57cfb6d",
   "metadata": {},
   "outputs": [
    {
     "data": {
      "text/html": [
       "<div>\n",
       "<style scoped>\n",
       "    .dataframe tbody tr th:only-of-type {\n",
       "        vertical-align: middle;\n",
       "    }\n",
       "\n",
       "    .dataframe tbody tr th {\n",
       "        vertical-align: top;\n",
       "    }\n",
       "\n",
       "    .dataframe thead th {\n",
       "        text-align: right;\n",
       "    }\n",
       "</style>\n",
       "<table border=\"1\" class=\"dataframe\">\n",
       "  <thead>\n",
       "    <tr style=\"text-align: right;\">\n",
       "      <th></th>\n",
       "      <th>UID</th>\n",
       "      <th>PITCHER_KEY</th>\n",
       "      <th>RELEASE_SPEED</th>\n",
       "      <th>SPIN_RATE_ABSOLUTE</th>\n",
       "      <th>RELEASE_HEIGHT</th>\n",
       "      <th>RELEASE_SIDE</th>\n",
       "    </tr>\n",
       "  </thead>\n",
       "  <tbody>\n",
       "    <tr>\n",
       "      <th>UID</th>\n",
       "      <td>1.000000</td>\n",
       "      <td>0.001522</td>\n",
       "      <td>0.007331</td>\n",
       "      <td>-0.067521</td>\n",
       "      <td>-0.021355</td>\n",
       "      <td>0.016523</td>\n",
       "    </tr>\n",
       "    <tr>\n",
       "      <th>PITCHER_KEY</th>\n",
       "      <td>0.001522</td>\n",
       "      <td>1.000000</td>\n",
       "      <td>0.058644</td>\n",
       "      <td>-0.038125</td>\n",
       "      <td>-0.015715</td>\n",
       "      <td>-0.030568</td>\n",
       "    </tr>\n",
       "    <tr>\n",
       "      <th>RELEASE_SPEED</th>\n",
       "      <td>0.007331</td>\n",
       "      <td>0.058644</td>\n",
       "      <td>1.000000</td>\n",
       "      <td>-0.035982</td>\n",
       "      <td>0.066649</td>\n",
       "      <td>-0.102135</td>\n",
       "    </tr>\n",
       "    <tr>\n",
       "      <th>SPIN_RATE_ABSOLUTE</th>\n",
       "      <td>-0.067521</td>\n",
       "      <td>-0.038125</td>\n",
       "      <td>-0.035982</td>\n",
       "      <td>1.000000</td>\n",
       "      <td>0.015249</td>\n",
       "      <td>-0.106147</td>\n",
       "    </tr>\n",
       "    <tr>\n",
       "      <th>RELEASE_HEIGHT</th>\n",
       "      <td>-0.021355</td>\n",
       "      <td>-0.015715</td>\n",
       "      <td>0.066649</td>\n",
       "      <td>0.015249</td>\n",
       "      <td>1.000000</td>\n",
       "      <td>0.114425</td>\n",
       "    </tr>\n",
       "    <tr>\n",
       "      <th>RELEASE_SIDE</th>\n",
       "      <td>0.016523</td>\n",
       "      <td>-0.030568</td>\n",
       "      <td>-0.102135</td>\n",
       "      <td>-0.106147</td>\n",
       "      <td>0.114425</td>\n",
       "      <td>1.000000</td>\n",
       "    </tr>\n",
       "  </tbody>\n",
       "</table>\n",
       "</div>"
      ],
      "text/plain": [
       "                         UID  PITCHER_KEY  RELEASE_SPEED  SPIN_RATE_ABSOLUTE  \\\n",
       "UID                 1.000000     0.001522       0.007331           -0.067521   \n",
       "PITCHER_KEY         0.001522     1.000000       0.058644           -0.038125   \n",
       "RELEASE_SPEED       0.007331     0.058644       1.000000           -0.035982   \n",
       "SPIN_RATE_ABSOLUTE -0.067521    -0.038125      -0.035982            1.000000   \n",
       "RELEASE_HEIGHT     -0.021355    -0.015715       0.066649            0.015249   \n",
       "RELEASE_SIDE        0.016523    -0.030568      -0.102135           -0.106147   \n",
       "\n",
       "                    RELEASE_HEIGHT  RELEASE_SIDE  \n",
       "UID                      -0.021355      0.016523  \n",
       "PITCHER_KEY              -0.015715     -0.030568  \n",
       "RELEASE_SPEED             0.066649     -0.102135  \n",
       "SPIN_RATE_ABSOLUTE        0.015249     -0.106147  \n",
       "RELEASE_HEIGHT            1.000000      0.114425  \n",
       "RELEASE_SIDE              0.114425      1.000000  "
      ]
     },
     "execution_count": 9,
     "metadata": {},
     "output_type": "execute_result"
    }
   ],
   "source": [
    "df_train.corr()"
   ]
  },
  {
   "cell_type": "code",
   "execution_count": 10,
   "id": "76a36e92-a1a0-4e74-96e3-1a137f4d47d6",
   "metadata": {},
   "outputs": [
    {
     "name": "stdout",
     "output_type": "stream",
     "text": [
      "Total no. of pitches thrown for each of the pitch types\n"
     ]
    },
    {
     "data": {
      "text/plain": [
       "FB    38026\n",
       "SL    20686\n",
       "SI    14401\n",
       "CH    11239\n",
       "CB     9392\n",
       "CF     6256\n",
       "Name: PITCH_TYPE_TRACKED_KEY, dtype: int64"
      ]
     },
     "execution_count": 10,
     "metadata": {},
     "output_type": "execute_result"
    }
   ],
   "source": [
    "print(\"Total no. of pitches thrown for each of the pitch types\")\n",
    "df_train['PITCH_TYPE_TRACKED_KEY'].value_counts()"
   ]
  },
  {
   "cell_type": "markdown",
   "id": "ad32f86b-3df4-4787-a288-b1b0cefbce7a",
   "metadata": {},
   "source": [
    "#### Let's store our training dataset into predictor and reesponse variables "
   ]
  },
  {
   "cell_type": "code",
   "execution_count": 11,
   "id": "d5269306-019a-4f40-b808-3a7f7b6943c0",
   "metadata": {},
   "outputs": [],
   "source": [
    "cols = ['RELEASE_SPEED','SPIN_RATE_ABSOLUTE','RELEASE_HEIGHT','RELEASE_SIDE']\n",
    "X = df_train[cols]\n",
    "y = df_train['PITCH_TYPE_TRACKED_KEY']"
   ]
  },
  {
   "cell_type": "code",
   "execution_count": 12,
   "id": "dd90093e-78d9-4c2f-a120-31175165a2c4",
   "metadata": {},
   "outputs": [],
   "source": [
    "X_train, X_test, y_train, y_test = train_test_split(X,y,test_size=0.2)"
   ]
  },
  {
   "cell_type": "code",
   "execution_count": 13,
   "id": "d2b008cf-0776-4c47-9d62-29facc24a5f2",
   "metadata": {},
   "outputs": [
    {
     "name": "stdout",
     "output_type": "stream",
     "text": [
      "(80000, 4)\n",
      "(80000,)\n",
      "(20000, 4)\n",
      "(20000,)\n"
     ]
    }
   ],
   "source": [
    "print(X_train.shape)\n",
    "print(y_train.shape)\n",
    "print(X_test.shape)\n",
    "print(y_test.shape)"
   ]
  },
  {
   "cell_type": "markdown",
   "id": "c47a3dbf-da32-4fc7-a17c-d1591c6e24ed",
   "metadata": {},
   "source": [
    "#### Standardization is a very popular and effective approach to dealing with variables that may have different scales.\n",
    "We need to standardize the columns to have a common scale so that their relationship can be better understood by our model.<br>\n",
    "The StandardScaler transform allows us to quickly & easily standardize our data columns by first subtracting the column's mean, then dividing by the column's standard deviation."
   ]
  },
  {
   "cell_type": "code",
   "execution_count": 14,
   "id": "925269b9-1504-4e94-b1fe-e150d7276c00",
   "metadata": {
    "tags": []
   },
   "outputs": [],
   "source": [
    "sc = StandardScaler()\n",
    "X1 = sc.fit_transform(X_train)\n",
    "X_train = sc.transform(X_train)\n",
    "\n",
    "X2 = sc.fit_transform(X_test)\n",
    "X_test = sc.transform(X_test)"
   ]
  },
  {
   "cell_type": "markdown",
   "id": "7b0a4234-5a1d-48b2-8df8-428e7ca19329",
   "metadata": {},
   "source": [
    "### In this section, we will implement a logistic regression model to predict the probability of each of the pitch types.\n",
    "Our predictor variables here are: Release speed of the ball, Absolute Spin Rate, Release Height, and Release Side.<br>\n",
    "Our response variable is obviously the type of pitch thrown."
   ]
  },
  {
   "cell_type": "markdown",
   "id": "070bedee-82f8-49b5-a6ce-e2595f63bf1a",
   "metadata": {},
   "source": [
    "### Logistic Regression"
   ]
  },
  {
   "cell_type": "code",
   "execution_count": 15,
   "id": "83d88242-6ab1-461e-93d3-300e8cfb1459",
   "metadata": {},
   "outputs": [
    {
     "name": "stdout",
     "output_type": "stream",
     "text": [
      "Model accuracy: 68.895 %\n"
     ]
    }
   ],
   "source": [
    "lr = LogisticRegression()\n",
    "lr.fit(X_train,y_train)\n",
    "lr_pred = lr.predict_proba(X_test)\n",
    "print('Model accuracy:',lr.score(X_test,y_test)*100,'%')"
   ]
  },
  {
   "cell_type": "markdown",
   "id": "63c80882-c91f-4a4c-bee4-6c8332495d15",
   "metadata": {},
   "source": [
    "#### Confusion matrix helps us get an understanding of how well the model predicts the responses compared to the actual labels."
   ]
  },
  {
   "cell_type": "code",
   "execution_count": 16,
   "id": "89173187-9162-4191-afc1-c2f867c64d04",
   "metadata": {},
   "outputs": [],
   "source": [
    "def evalreport(X,y,model):\n",
    "    cfm = confusion_matrix(y,model.predict(X),labels=['CB','CF','CH','FB','SI','SL'])\n",
    "    cmdf = pd.DataFrame(cfm, index=['CB','CF','CH','FB','SI','SL'], columns=['CB','CF','CH','FB','SI','SL'])\n",
    "    cfhm = sns.heatmap(cmdf,annot=True,cmap='Blues',fmt='')\n",
    "    cfhm.set(xlabel='Predicted', ylabel='Actual')\n",
    "    display(cfhm)\n",
    "    print(classification_report(y, model.predict(X)))"
   ]
  },
  {
   "cell_type": "code",
   "execution_count": 17,
   "id": "7243765a-0da1-46d3-8f87-54e0557c1e40",
   "metadata": {},
   "outputs": [
    {
     "data": {
      "text/plain": [
       "<AxesSubplot:xlabel='Predicted', ylabel='Actual'>"
      ]
     },
     "metadata": {},
     "output_type": "display_data"
    },
    {
     "name": "stdout",
     "output_type": "stream",
     "text": [
      "              precision    recall  f1-score   support\n",
      "\n",
      "          CB       0.78      0.67      0.72      1855\n",
      "          CF       0.17      0.00      0.01      1276\n",
      "          CH       0.76      0.76      0.76      2231\n",
      "          FB       0.69      0.94      0.79      7627\n",
      "          SI       0.57      0.14      0.23      2924\n",
      "          SL       0.65      0.80      0.72      4087\n",
      "\n",
      "    accuracy                           0.69     20000\n",
      "   macro avg       0.60      0.55      0.54     20000\n",
      "weighted avg       0.65      0.69      0.64     20000\n",
      "\n"
     ]
    },
    {
     "data": {
      "image/png": "[encoded data removed]",
      "text/plain": [
       "<Figure size 640x480 with 2 Axes>"
      ]
     },
     "metadata": {},
     "output_type": "display_data"
    }
   ],
   "source": [
    "evalreport(X_test,y_test,lr)"
   ]
  },
  {
   "cell_type": "markdown",
   "id": "b65751b0-ef72-47b8-a332-3244e94ce223",
   "metadata": {},
   "source": [
    "Since this is a multiclass classification problem, we will explore the K-Nearest Neighbors (KNN) classifier to evaluate its performance for our dataset too.<br>\n",
    "Usually when people are confronted with a multiclass classification problem, they mistakenly believe that logistic regression would be the best approach to take, but in fact, this is not true. The problem with logistic regression is that it assumes that each class value has an equal probability of occurring during training. Since this assumption does not hold for multiclass classification problems, it can cause the model to output some very infeasible values. Instead, the KNN classifier allows us to avoid these infeasiblities by identifying the most similar cases and placing more emphasis on their values.<br>\n",
    "The KNN classifier works by taking the training data and identifying k cases that are closest to the test data point. It then places a voting scheme on these k cases to determine which class value should be selected.\n",
    "\n",
    "\n",
    "### KNN Classifier"
   ]
  },
  {
   "cell_type": "code",
   "execution_count": 18,
   "id": "b77689cf-5271-46f3-9048-2206522aa4c9",
   "metadata": {},
   "outputs": [
    {
     "name": "stdout",
     "output_type": "stream",
     "text": [
      "Model accuracy: 74.395 %\n"
     ]
    }
   ],
   "source": [
    "# training a KNN classifier\n",
    "knn = KNeighborsClassifier(n_neighbors = 12).fit(X_train,y_train)\n",
    "\n",
    "# accuracy on X_\n",
    "accuracy = knn.score(X_test, y_test)\n",
    "\n",
    "# creating a confusion matrix\n",
    "knn_pred = knn.predict(X_test)\n",
    "\n",
    "print('Model accuracy:',knn.score(X_test,y_test)*100,'%')"
   ]
  },
  {
   "cell_type": "code",
   "execution_count": 19,
   "id": "97f0f5bf-9341-41d7-a0a4-c3cb5beb9cf9",
   "metadata": {},
   "outputs": [
    {
     "data": {
      "text/plain": [
       "<AxesSubplot:xlabel='Predicted', ylabel='Actual'>"
      ]
     },
     "metadata": {},
     "output_type": "display_data"
    },
    {
     "name": "stdout",
     "output_type": "stream",
     "text": [
      "              precision    recall  f1-score   support\n",
      "\n",
      "          CB       0.78      0.78      0.78      1855\n",
      "          CF       0.57      0.41      0.48      1276\n",
      "          CH       0.81      0.81      0.81      2231\n",
      "          FB       0.75      0.90      0.82      7627\n",
      "          SI       0.65      0.38      0.48      2924\n",
      "          SL       0.75      0.77      0.76      4087\n",
      "\n",
      "    accuracy                           0.74     20000\n",
      "   macro avg       0.72      0.67      0.69     20000\n",
      "weighted avg       0.73      0.74      0.73     20000\n",
      "\n"
     ]
    },
    {
     "data": {
      "image/png": "[encoded data removed]",
      "text/plain": [
       "<Figure size 640x480 with 2 Axes>"
      ]
     },
     "metadata": {},
     "output_type": "display_data"
    }
   ],
   "source": [
    "evalreport(X_test,y_test,knn)"
   ]
  },
  {
   "cell_type": "markdown",
   "id": "862e38a0-44f8-4d1f-9071-261a63f393ff",
   "metadata": {},
   "source": [
    "### Prediction on Test Data\n",
    "\n",
    "#### Based on accuracy measures and tradeoff between precision and recall, we pick KNN Classifier to predict the pitch type on our test dataset."
   ]
  },
  {
   "cell_type": "code",
   "execution_count": 20,
   "id": "604006c0-c49d-471e-b839-b13e8b9e0de8",
   "metadata": {},
   "outputs": [
    {
     "data": {
      "text/html": [
       "<div>\n",
       "<style scoped>\n",
       "    .dataframe tbody tr th:only-of-type {\n",
       "        vertical-align: middle;\n",
       "    }\n",
       "\n",
       "    .dataframe tbody tr th {\n",
       "        vertical-align: top;\n",
       "    }\n",
       "\n",
       "    .dataframe thead th {\n",
       "        text-align: right;\n",
       "    }\n",
       "</style>\n",
       "<table border=\"1\" class=\"dataframe\">\n",
       "  <thead>\n",
       "    <tr style=\"text-align: right;\">\n",
       "      <th></th>\n",
       "      <th>RELEASE_SPEED</th>\n",
       "      <th>SPIN_RATE_ABSOLUTE</th>\n",
       "      <th>RELEASE_HEIGHT</th>\n",
       "      <th>RELEASE_SIDE</th>\n",
       "    </tr>\n",
       "  </thead>\n",
       "  <tbody>\n",
       "    <tr>\n",
       "      <th>0</th>\n",
       "      <td>92.090401</td>\n",
       "      <td>1736.750000</td>\n",
       "      <td>5.11061</td>\n",
       "      <td>-1.971080</td>\n",
       "    </tr>\n",
       "    <tr>\n",
       "      <th>1</th>\n",
       "      <td>93.045097</td>\n",
       "      <td>1925.030029</td>\n",
       "      <td>5.21557</td>\n",
       "      <td>-1.830700</td>\n",
       "    </tr>\n",
       "    <tr>\n",
       "      <th>2</th>\n",
       "      <td>91.419098</td>\n",
       "      <td>2392.090088</td>\n",
       "      <td>5.74147</td>\n",
       "      <td>1.406280</td>\n",
       "    </tr>\n",
       "    <tr>\n",
       "      <th>3</th>\n",
       "      <td>83.420998</td>\n",
       "      <td>2177.780029</td>\n",
       "      <td>5.83022</td>\n",
       "      <td>-1.111150</td>\n",
       "    </tr>\n",
       "    <tr>\n",
       "      <th>4</th>\n",
       "      <td>70.362602</td>\n",
       "      <td>2789.729980</td>\n",
       "      <td>7.01691</td>\n",
       "      <td>0.554392</td>\n",
       "    </tr>\n",
       "    <tr>\n",
       "      <th>...</th>\n",
       "      <td>...</td>\n",
       "      <td>...</td>\n",
       "      <td>...</td>\n",
       "      <td>...</td>\n",
       "    </tr>\n",
       "    <tr>\n",
       "      <th>9290</th>\n",
       "      <td>81.672401</td>\n",
       "      <td>2264.669922</td>\n",
       "      <td>5.43464</td>\n",
       "      <td>-1.980910</td>\n",
       "    </tr>\n",
       "    <tr>\n",
       "      <th>9291</th>\n",
       "      <td>97.753502</td>\n",
       "      <td>2461.350098</td>\n",
       "      <td>5.93526</td>\n",
       "      <td>-1.199740</td>\n",
       "    </tr>\n",
       "    <tr>\n",
       "      <th>9292</th>\n",
       "      <td>92.427902</td>\n",
       "      <td>2132.750000</td>\n",
       "      <td>6.03055</td>\n",
       "      <td>-1.017920</td>\n",
       "    </tr>\n",
       "    <tr>\n",
       "      <th>9293</th>\n",
       "      <td>92.045197</td>\n",
       "      <td>2073.979980</td>\n",
       "      <td>5.55516</td>\n",
       "      <td>-1.937830</td>\n",
       "    </tr>\n",
       "    <tr>\n",
       "      <th>9294</th>\n",
       "      <td>95.574303</td>\n",
       "      <td>2420.389893</td>\n",
       "      <td>5.73926</td>\n",
       "      <td>-1.513140</td>\n",
       "    </tr>\n",
       "  </tbody>\n",
       "</table>\n",
       "<p>9295 rows × 4 columns</p>\n",
       "</div>"
      ],
      "text/plain": [
       "      RELEASE_SPEED  SPIN_RATE_ABSOLUTE  RELEASE_HEIGHT  RELEASE_SIDE\n",
       "0         92.090401         1736.750000         5.11061     -1.971080\n",
       "1         93.045097         1925.030029         5.21557     -1.830700\n",
       "2         91.419098         2392.090088         5.74147      1.406280\n",
       "3         83.420998         2177.780029         5.83022     -1.111150\n",
       "4         70.362602         2789.729980         7.01691      0.554392\n",
       "...             ...                 ...             ...           ...\n",
       "9290      81.672401         2264.669922         5.43464     -1.980910\n",
       "9291      97.753502         2461.350098         5.93526     -1.199740\n",
       "9292      92.427902         2132.750000         6.03055     -1.017920\n",
       "9293      92.045197         2073.979980         5.55516     -1.937830\n",
       "9294      95.574303         2420.389893         5.73926     -1.513140\n",
       "\n",
       "[9295 rows x 4 columns]"
      ]
     },
     "execution_count": 20,
     "metadata": {},
     "output_type": "execute_result"
    }
   ],
   "source": [
    "sol = pd.DataFrame(data=df_test['UID'],columns=['UID'])\n",
    "df_test.drop(columns=['PITCHER_KEY','UID'],inplace=True)\n",
    "df_test"
   ]
  },
  {
   "cell_type": "code",
   "execution_count": 21,
   "id": "34e2a204-a492-4286-bb9b-038a597de99a",
   "metadata": {},
   "outputs": [],
   "source": [
    "Xt = sc.fit_transform(df_test)\n",
    "test = sc.transform(df_test)\n",
    "\n",
    "pred_cb = []\n",
    "pred_cf = []\n",
    "pred_ch = []\n",
    "pred_fb = []\n",
    "pred_si = []\n",
    "pred_sl = []"
   ]
  },
  {
   "cell_type": "code",
   "execution_count": 22,
   "id": "98e9f18b-a9c7-4e42-997e-82327a5b07e5",
   "metadata": {},
   "outputs": [],
   "source": [
    "test_pred = knn.predict_proba(test)"
   ]
  },
  {
   "cell_type": "code",
   "execution_count": 23,
   "id": "3717b2cf-53ff-4b29-9f82-b41d490529ce",
   "metadata": {},
   "outputs": [],
   "source": [
    "for i in range(len(test_pred)):\n",
    "    pred_cb.append(test_pred[i][0])\n",
    "    pred_cf.append(test_pred[i][1])\n",
    "    pred_ch.append(test_pred[i][2])\n",
    "    pred_fb.append(test_pred[i][3])\n",
    "    pred_si.append(test_pred[i][4])\n",
    "    pred_sl.append(test_pred[i][5])"
   ]
  },
  {
   "cell_type": "code",
   "execution_count": 24,
   "id": "81f2fcc9-0ab4-4392-a105-28ea4b7f63c2",
   "metadata": {},
   "outputs": [],
   "source": [
    "sol['CB'] = pred_cb\n",
    "sol['CF'] = pred_cf\n",
    "sol['CH'] = pred_ch\n",
    "sol['FB'] = pred_fb\n",
    "sol['SI'] = pred_si\n",
    "sol['SL'] = pred_sl"
   ]
  },
  {
   "cell_type": "code",
   "execution_count": 25,
   "id": "c73da215-c067-45af-91a1-582805128ac5",
   "metadata": {},
   "outputs": [],
   "source": [
    "sol.to_csv('data/solution.csv',index=False)"
   ]
  }
 ],
 "metadata": {
  "kernelspec": {
   "display_name": "Python 3 (ipykernel)",
   "language": "python",
   "name": "python3"
  },
  "language_info": {
   "codemirror_mode": {
    "name": "ipython",
    "version": 3
   },
   "file_extension": ".py",
   "mimetype": "text/x-python",
   "name": "python",
   "nbconvert_exporter": "python",
   "pygments_lexer": "ipython3",
   "version": "3.9.7"
  }
 },
 "nbformat": 4,
 "nbformat_minor": 5
}
